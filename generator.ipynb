{
 "cells": [
  {
   "cell_type": "code",
   "execution_count": 6,
   "id": "ca335bb9",
   "metadata": {},
   "outputs": [],
   "source": [
    "from langchain_groq import ChatGroq\n",
    "\n",
    "llm = ChatGroq(\n",
    "    model=\"llama-3.1-8b-instant\",\n",
    "    temperature=0,\n",
    "    groq_api_key='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'\n",
    ")\n"
   ]
  },
  {
   "cell_type": "code",
   "execution_count": 7,
   "id": "3ec3eb7a",
   "metadata": {},
   "outputs": [
    {
     "name": "stdout",
     "output_type": "stream",
     "text": [
      "Neil Armstrong. He stepped onto the lunar surface on July 20, 1969, during the Apollo 11 mission.\n"
     ]
    }
   ],
   "source": [
    "response = llm.invoke(\"First person on the moon was\")\n",
    "print(response.content)"
   ]
  },
  {
   "cell_type": "code",
   "execution_count": 4,
   "id": "1262b665",
   "metadata": {},
   "outputs": [
    {
     "name": "stderr",
     "output_type": "stream",
     "text": [
      "USER_AGENT environment variable not set, consider setting it to identify your requests.\n"
     ]
    },
    {
     "data": {
      "text/plain": [
       "'\\n\\n\\n\\n\\n\\n\\n\\n\\n\\n\\n\\n\\n\\n\\n\\n\\n\\n\\n\\n\\nAnalyst II, Marketing Measurement\\n\\n\\n\\n\\n\\n\\n\\n\\n\\n\\n\\n\\n\\n\\n\\n\\n\\n\\n\\n\\n\\n\\n\\n\\n\\n\\n\\n\\n\\n\\n\\n\\n\\n\\n\\n\\n\\n\\n\\n\\n\\n\\nSkip to main content\\nOpen Virtual Assistant\\n\\n\\n\\n\\n\\n\\n\\n\\n\\n\\nHome\\n\\n\\nCareer Areas\\n\\n\\nTotal Rewards\\n\\n\\nLife@Nike\\n\\n\\nPurpose\\n\\n\\n\\n\\n\\n\\n\\n\\n\\n\\nLanguage\\n\\n\\n\\n\\n\\nSelect a Language\\n\\n  Deutsch  \\n  English  \\n  Español (España)  \\n  Español (América Latina)  \\n  Français  \\n  Italiano  \\n  Nederlands  \\n  Polski  \\n  Tiếng Việt  \\n  Türkçe  \\n  简体中文  \\n  繁體中文  \\n  עִברִית  \\n  한국어  \\n  日本語  \\n\\n\\n\\n\\n\\n\\n\\n\\nCareers\\n\\n\\n\\n\\n\\n\\n\\n\\n\\n\\n\\n\\n\\n\\n\\n\\n\\n\\nClose Menu\\n\\n\\n\\n\\n\\n\\n\\nCareers\\n\\n\\n\\n\\n\\n\\nChat\\n\\n\\n\\n\\n\\n\\n                                Home\\n                            \\n\\n\\n\\n                                Career Areas\\n                            \\n\\n\\n\\n                                Total Rewards\\n                            \\n\\n\\n\\n                                Life@Nike\\n                            \\n\\n\\n\\n                                Purpose\\n                            \\n\\n\\n\\n\\n\\n\\n\\n\\n\\n\\nJordan Careers\\n\\n\\n\\n\\n\\n\\n\\nConverse Careers\\n\\n\\n\\n\\n\\n\\n\\n\\n\\n\\nLanguage\\n\\n\\n\\n\\n\\n\\n\\n\\n\\n\\n\\nMenu\\n\\n\\n\\nReturn to Previous Menu\\n\\n\\n\\nSelect a Language\\n\\n  Deutsch  \\n  English  \\n  Español (España)  \\n  Español (América Latina)  \\n  Français  \\n  Italiano  \\n  Nederlands  \\n  Polski  \\n  Tiếng Việt  \\n  Türkçe  \\n  简体中文  \\n  繁體中文  \\n  עִברִית  \\n  한국어  \\n  日本語  \\n\\n\\n\\n\\n\\n\\n\\n\\n\\n\\n\\n\\n\\n\\n\\n\\n\\n                                Back to Search\\n\\n                            \\n\\nAnalyst II, Marketing Measurement\\n\\n\\nCategories ID\\n\\n\\n\\nCategories URL\\n\\n\\n\\nPosition Type\\nFull Time\\n\\n\\nDate Posted\\n\\n\\n\\nPrimary Quest ID\\n\\n\\n\\nSecond Quest ID\\n\\n\\n\\nJob Classification\\n\\n\\n\\n\\nCareer area\\nAnalytics\\n\\n\\nLocation\\nTower 1, LiNa Building, No. 99, Shanghai, Shanghai 201703, China\\n\\n\\n\\nJob ID\\nR-58710\\n\\n\\n\\n\\n\\n                                    Apply Now\\n                                \\n\\n\\n\\n\\n\\n\\nShare Job\\n\\n\\n\\n\\nShare Job Posting\\n\\n\\n\\n\\n\\n\\nFacebook\\nOpens In A New Tab\\n\\n\\n\\n\\n\\n\\n\\nLinkedIn\\nLink Opens In New Window\\n\\n\\n\\n\\n\\n\\n\\n\\nEmail\\n\\n\\n\\n\\n\\n\\nClose-Medium (Default Size)-icon\\n\\nClose Menu\\n\\n\\n\\n\\n\\n\\n\\n\\n\\n\\n\\n\\n\\n\\n\\nBecome a Part of the NIKE, Inc. Team\\nNIKE, Inc. does more than outfit the world’s best athletes. It is a place to explore\\n                            potential, obliterate boundaries\\n                            and push out the edges of what can be. The company looks for people who can grow, think,\\n                            dream and create. Its\\n                            culture thrives by embracing diversity and rewarding imagination. The brand seeks achievers,\\n                            leaders and\\n                            visionaries. At NIKE, Inc. it’s about each person bringing skills and passion to a\\n                            challenging and constantly\\n                            evolving game.\\n\\nAnalyst II, Marketing Measurement, Marketing Science GCWho are we looking for\\xa0\\xa0A Marketing Measurement Analyst who has a knowledge and passion for applying advanced analytic approaches, an eagerness to dig into data and a vision for turning data streams into a cohesive view of consumer behavior. In this role, you’ll work as an extended member of Nike’s marketing team, serving as an analytics expert.\\xa0\\xa0You’ll use consumer research and consumer engagement data to plan the marketing campaign measurement and test-and-learn agenda for key Marketing programs, developing and execute quantitative consumer analytics to develop an understanding of consumers engagement across Nike’s communication ecosystem and apply inputs into experimentation | modeling and business strategy.\\xa0\\xa0You will also play an active part as a representative of the Nike Insights team. The ideal candidate excels in cross-functional teams and thrives in a fast-pace organization, with an opportunity to evolve the way Nike created content to connects with its consumers.The candidate must be a dependable teammate and self-motivatedEnjoy finding relationships from data sets and clarity from the data environment\\xa0The aim of most projects will be influencing key business decisions and creating assessment, tracking, analytics and optimizations for marketing campaigns\\xa0Experience3+ years of experience\\xa0in a research, measurement, or analytics roleProven ability to sift through data, identify critical information, analyze, develop hypotheses and\\xa0make recommendations requiredAdvanced\\xa0SQL\\xa0skill required and\\xa0Python\\xa0is a plusModelling skill and using machine learning applications is a plusStrong presentation skills, with excellent written and verbal communication skills, including packaging and development of management presentationsAbility to develop strong partnerships across a multi-layered organizationStrategy and business analytics experience in a retail environment preferredEducationDegree in quantitative, e.g., business, statistics, research, or behavioral sciencesAdvanced degree a plus but not required\\n\\nNIKE, Inc. is a growth company that looks for team members to grow with it. Nike offers a\\n                            generous total rewards\\n                            package, casual work environment, a diverse and inclusive culture, and an electric\\n                            atmosphere for professional\\n                            development. No matter the location, or the role, every Nike employee shares one galvanizing\\n                            mission: To bring\\n                            inspiration and innovation to every athlete* in the world.\\nNIKE, Inc. is an equal opportunity employer. Qualified applicants will receive\\n                            consideration without\\n                            regard to race, color, religion, sex, national origin, age, sexual orientation, gender\\n                            identity, gender expression,\\n                            veteran status, or disability.\\n\\n\\n\\n\\n                                Apply Now\\n                            \\n\\n\\n\\n\\n\\n\\nShare Job\\n\\n\\n\\n\\nShare Job Posting\\n\\n\\n\\n\\n\\n\\nFaceboox\\nOpens In A New Tab\\n\\n\\n\\n\\n\\n\\n\\nLinkedIn\\nLink Opens In New Window\\n\\n\\n\\n\\n\\n\\n\\n\\nEmail\\n\\n\\n\\n\\n\\n\\nClose-Medium (Default Size)-icon\\n\\nClose Menu\\n\\n\\n\\n\\n\\n\\n\\n\\n\\n\\n\\nWhat You Can Expect\\nOUR HIRING GAME PLAN\\n\\n\\n01 Apply\\nOur teams are made up of diverse skillsets, knowledge bases, inputs, ideas and backgrounds.\\n                            We want you to find your fit – review job descriptions, departments and teams to discover\\n                            the role for you.\\n\\n\\n02 Meet a Recruiter or Take an Assessment\\nIf selected for a corporate role, a recruiter will reach out to start your interview process\\n                            and be your main contact\\n                            throughout the process. For retail roles, you’ll complete an interactive assessment that\\n                            includes a chat and quizzes and\\n                            takes about 10-20 minutes to complete.\\xa0 No matter the role, we want to learn about you – the\\n                            whole you – so don’t shy\\n                            away from how you approach world-class service and what makes you unique.\\n\\n\\n03 Interview\\nGo into this stage confident by doing your research, understanding what we are looking for\\n                            and being prepared for\\n                            questions that are set up to learn more about you, and your background.\\n\\n\\n\\n\\n\\n\\n\\n\\n\\n\\n\\n\\n\\n\\n\\n\\n\\n\\n\\n\\n\\n\\n\\n\\nHome\\n\\n\\nAbout Us\\n\\n\\nContact\\n\\n\\nTalent Community\\n\\n\\nTerms\\n\\n\\n\\n\\n\\n\\n\\n\\n\\n\\n\\n\\n\\n\\n\\n\\n\\n\\n\\n\\n\\n\\n\\n\\n\\n\\n\\n\\n\\n\\n\\n\\n\\n\\n\\n\\n\\n\\n\\n\\n\\n\\n              \\n                   \\n                    Nike Applicant Privacy Policy\\n                    \\n\\n\\n\\n\\n\\nWe offer a number of accommodations to complete our interview process including screen readers, sign language interpreters,\\n                accessible and single location for in-person interviews, closed captioning, and other reasonable modifications as\\n                needed.\\n\\n\\nIf you discover, as you navigate our application process, that you need assistance or an accommodation due to a\\n                disability, please contact us at +1 503-671-4156 and include your full name, best way to reach you, and the\\n                accommodation you request to assist with the application process.\\nFor more information, please refer to Equal Employment\\n                        Opportunity is The Law.\\n\\n\\n\\n©  Nike, Inc. All Rights Reserved\\n\\n\\n\\n\\n\\n\\n\\n\\n\\n\\n\\n\\n\\nCareers\\n\\n\\n\\n\\n\\n\\n\\n\\nChat\\nChat with our AI Assistant\\n\\n\\n\\n\\n\\n\\n\\n\\n\\n\\n\\n\\n\\n\\n\\n'"
      ]
     },
     "execution_count": 4,
     "metadata": {},
     "output_type": "execute_result"
    }
   ],
   "source": [
    "from langchain_community.document_loaders import WebBaseLoader\n",
    "\n",
    "loader = WebBaseLoader(\"https://careers.nike.com/analyst-ii-marketing-measurement/job/R-58710\")\n",
    "page_data = loader.load().pop().page_content\n",
    "page_data"
   ]
  },
  {
   "cell_type": "code",
   "execution_count": null,
   "id": "66f371d9",
   "metadata": {},
   "outputs": [
    {
     "data": {
      "text/plain": [
       "'Analyst II, Marketing Measurement Skip to main content Open Virtual Assistant Home Career Areas Total Rewards Life@Nike Purpose Language Select a Language Deutsch English Español (España) Español (América Latina) Français Italiano Nederlands Polski Tiếng Việt Türkçe 简体中文 繁體中文 עִברִית 한국어 日本語 Careers Close Menu Careers Chat Home Career Areas Total Rewards Life@Nike Purpose Jordan Careers Converse Careers Language Menu Return to Previous Menu Select a Language Deutsch English Español (España) Español (América Latina) Français Italiano Nederlands Polski Tiếng Việt Türkçe 简体中文 繁體中文 עִברִית 한국어 日本語 Back to Search Analyst II, Marketing Measurement Categories ID Categories URL Position Type Full Time Date Posted Primary Quest ID Second Quest ID Job Classification Career area Analytics Location Tower 1, LiNa Building, No. 99, Shanghai, Shanghai 201703, China Job ID R-58710 Apply Now Share Job Share Job Posting Facebook Opens In A New Tab LinkedIn Link Opens In New Window Email Close-Medium (Default Size)-icon Close Menu Become a Part of the NIKE, Inc. Team NIKE, Inc. does more than outfit the world’s best athletes. It is a place to explore potential, obliterate boundaries and push out the edges of what can be. The company looks for people who can grow, think, dream and create. Its culture thrives by embracing diversity and rewarding imagination. The brand seeks achievers, leaders and visionaries. At NIKE, Inc. it’s about each person bringing skills and passion to a challenging and constantly evolving game. Analyst II, Marketing Measurement, Marketing Science GCWho are we looking for A Marketing Measurement Analyst who has a knowledge and passion for applying advanced analytic approaches, an eagerness to dig into data and a vision for turning data streams into a cohesive view of consumer behavior. In this role, you’ll work as an extended member of Nike’s marketing team, serving as an analytics expert. You’ll use consumer research and consumer engagement data to plan the marketing campaign measurement and test-and-learn agenda for key Marketing programs, developing and execute quantitative consumer analytics to develop an understanding of consumers engagement across Nike’s communication ecosystem and apply inputs into experimentation | modeling and business strategy. You will also play an active part as a representative of the Nike Insights team. The ideal candidate excels in cross-functional teams and thrives in a fast-pace organization, with an opportunity to evolve the way Nike created content to connects with its consumers.The candidate must be a dependable teammate and self-motivatedEnjoy finding relationships from data sets and clarity from the data environment\\xa0The aim of most projects will be influencing key business decisions and creating assessment, tracking, analytics and optimizations for marketing campaigns\\xa0Experience3+ years of experience\\xa0in a research, measurement, or analytics roleProven ability to sift through data, identify critical information, analyze, develop hypotheses and\\xa0make recommendations requiredAdvanced\\xa0SQL\\xa0skill required and\\xa0Python\\xa0is a plusModelling skill and using machine learning applications is a plusStrong presentation skills, with excellent written and verbal communication skills, including packaging and development of management presentationsAbility to develop strong partnerships across a multi-layered organizationStrategy and business analytics experience in a retail environment preferredEducationDegree in quantitative, e.g., business, statistics, research, or behavioral sciencesAdvanced degree a plus but not required NIKE, Inc. is a growth company that looks for team members to grow with it. Nike offers a generous total rewards package, casual work environment, a diverse and inclusive culture, and an electric atmosphere for professional development. No matter the location, or the role, every Nike employee shares one galvanizing mission: To bring inspiration and innovation to every athlete* in the world. NIKE, Inc. is an equal opportunity employer. Qualified applicants will receive consideration without regard to race, color, religion, sex, national origin, age, sexual orientation, gender identity, gender expression, veteran status, or disability. Apply Now Share Job Share Job Posting Faceboox Opens In A New Tab LinkedIn Link Opens In New Window Email Close-Medium (Default Size)-icon Close Menu What You Can Expect OUR HIRING GAME PLAN 01 Apply Our teams are made up of diverse skillsets, knowledge bases, inputs, ideas and backgrounds. We want you to find your fit – review job descriptions, departments and teams to discover the role for you. 02 Meet a Recruiter or Take an Assessment If selected for a corporate role, a recruiter will reach out to start your interview process and be your main contact throughout the process. For retail roles, you’ll complete an interactive assessment that includes a chat and quizzes and takes about 10-20 minutes to complete. No matter the role, we want to learn about you – the whole you – so don’t shy away from how you approach world-class service and what makes you unique. 03 Interview Go into this stage confident by doing your research, understanding what we are looking for and being prepared for questions that are set up to learn more about you, and your background. Home About Us Contact Talent Community Terms Nike Applicant Privacy Policy We offer a number of accommodations to complete our interview process including screen readers, sign language interpreters, accessible and single location for in-person interviews, closed captioning, and other reasonable modifications as needed. If you discover, as you navigate our application process, that you need assistance or an accommodation due to a disability, please contact us at +1 503-671-4156 and include your full name, best way to reach you, and the accommodation you request to assist with the application process. For more information, please refer to Equal Employment Opportunity is The Law. © Nike, Inc. All Rights Reserved Careers Chat Chat with our AI Assistant'"
      ]
     },
     "execution_count": 5,
     "metadata": {},
     "output_type": "execute_result"
    }
   ],
   "source": [
    "from app.reg import clean_text\n",
    "cleaned_text = clean_text(page_data)\n",
    "cleaned_text"
   ]
  },
  {
   "cell_type": "code",
   "execution_count": 12,
   "id": "419667f0",
   "metadata": {},
   "outputs": [],
   "source": [
    "from langchain_core.prompts import PromptTemplate\n",
    "\n",
    "prompt_extract = PromptTemplate.from_template(\n",
    "        \"\"\"\n",
    "        ### SCRAPED TEXT FROM WEBSITE:\n",
    "        {page_data}\n",
    "        ### INSTRUCTION:\n",
    "        The scraped text is from the career's page of a website.\n",
    "        Your job is to extract the job postings and return them in JSON format containing the \n",
    "        following keys: `role`, `experience`, `skills` and `description`.\n",
    "        Only return the valid JSON.\n",
    "        ### VALID JSON (NO PREAMBLE):    \n",
    "        \"\"\"\n",
    ")\n",
    "\n",
    "chain_extract = prompt_extract | llm\n",
    "res = chain_extract.invoke(input={'page_data':cleaned_text})"
   ]
  },
  {
   "cell_type": "code",
   "execution_count": 13,
   "id": "a1643baa",
   "metadata": {},
   "outputs": [
    {
     "data": {
      "text/plain": [
       "[{'role': 'Analyst II, Marketing Measurement',\n",
       "  'experience': '3+ years of experience in a research, measurement, or analytics role',\n",
       "  'skills': ['Advanced SQL skill required',\n",
       "   'Python is a plus',\n",
       "   'Modelling skill and using machine learning applications is a plus',\n",
       "   'Strong presentation skills, with excellent written and verbal communication skills'],\n",
       "  'description': 'A Marketing Measurement Analyst who has a knowledge and passion for applying advanced analytic approaches, an eagerness to dig into data and a vision for turning data streams into a cohesive view of consumer behavior.'}]"
      ]
     },
     "execution_count": 13,
     "metadata": {},
     "output_type": "execute_result"
    }
   ],
   "source": [
    "from langchain_core.output_parsers import JsonOutputParser\n",
    "json_parser = JsonOutputParser()\n",
    "json_res = json_parser.parse(res.content)\n",
    "json_res"
   ]
  },
  {
   "cell_type": "code",
   "execution_count": null,
   "id": "95c8e5f2",
   "metadata": {},
   "outputs": [],
   "source": []
  }
 ],
 "metadata": {
  "kernelspec": {
   "display_name": "Python 3",
   "language": "python",
   "name": "python3"
  },
  "language_info": {
   "codemirror_mode": {
    "name": "ipython",
    "version": 3
   },
   "file_extension": ".py",
   "mimetype": "text/x-python",
   "name": "python",
   "nbconvert_exporter": "python",
   "pygments_lexer": "ipython3",
   "version": "3.11.4"
  }
 },
 "nbformat": 4,
 "nbformat_minor": 5
}
